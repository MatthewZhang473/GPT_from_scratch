{
 "cells": [
  {
   "cell_type": "code",
   "execution_count": 2,
   "id": "17746d21",
   "metadata": {},
   "outputs": [],
   "source": [
    "from gpt import BigramLanguageModel, decode\n",
    "\n",
    "import torch"
   ]
  },
  {
   "cell_type": "code",
   "execution_count": 3,
   "id": "354490eb",
   "metadata": {},
   "outputs": [],
   "source": [
    "device = 'cuda' if torch.cuda.is_available() else 'cpu'\n",
    "checkpoint_path = \"checkpoints/model_10.79M.pt\""
   ]
  },
  {
   "cell_type": "code",
   "execution_count": null,
   "id": "79490e58",
   "metadata": {},
   "outputs": [
    {
     "name": "stdout",
     "output_type": "stream",
     "text": [
      "Loaded model from checkpoints/model_10.79M.pt\n",
      "\n",
      "HIs sighty, then have forstd mad water himself:\n",
      "Therefore, 'tis behavief\n",
      "That some were I my sight to despite instice.\n",
      "Thou take the march'd, and now I choose thee,\n",
      "They say was to do forewards: 'Curpose, but for Gloucester's;\n",
      "Unless calm of London's prince, there's fair\n",
      "Rich sincer: I am greater, like a life, which we do.\n",
      "As sing is suel to Rome, let grave;\n",
      "His very true respirate be such as lift\n",
      "As that strikes he with die once,\n",
      "As That slow thy name with three freeds,\n",
      "And chiding from the rig\n"
     ]
    }
   ],
   "source": [
    "# load\n",
    "model = BigramLanguageModel().to(device)\n",
    "m = model.to(device) # load the model to device\n",
    "checkpoint = torch.load(checkpoint_path, map_location=device)\n",
    "model.load_state_dict(checkpoint['model_state_dict'])\n",
    "print(f\"Loaded model from {checkpoint_path}\")"
   ]
  },
  {
   "cell_type": "code",
   "execution_count": 5,
   "id": "e16d299c",
   "metadata": {},
   "outputs": [],
   "source": [
    "# generate from the model\n",
    "context = torch.zeros((1, 1), dtype=torch.long, device=device)\n",
    "output = decode(m.generate(context, max_new_tokens=10000)[0].tolist())\n",
    "\n",
    "with open(\"output.txt\", \"w\") as text_file:\n",
    "    text_file.write(output)"
   ]
  },
  {
   "cell_type": "code",
   "execution_count": null,
   "id": "57e4e634",
   "metadata": {},
   "outputs": [],
   "source": []
  }
 ],
 "metadata": {
  "kernelspec": {
   "display_name": "venv",
   "language": "python",
   "name": "python3"
  },
  "language_info": {
   "codemirror_mode": {
    "name": "ipython",
    "version": 3
   },
   "file_extension": ".py",
   "mimetype": "text/x-python",
   "name": "python",
   "nbconvert_exporter": "python",
   "pygments_lexer": "ipython3",
   "version": "3.11.5"
  }
 },
 "nbformat": 4,
 "nbformat_minor": 5
}
